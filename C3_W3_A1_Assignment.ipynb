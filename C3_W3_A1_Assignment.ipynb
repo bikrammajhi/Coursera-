{
 "cells": [
  {
   "cell_type": "markdown",
   "metadata": {},
   "source": [
    "# Deep Q-Learning - Lunar Lander\n",
    "\n",
    "In this assignment, you will train an agent to land a lunar lander safely on a landing pad on the surface of the moon.\n",
    "\n",
    "\n",
    "# Outline\n",
    "- [ 1 - Import Packages <img align=\"Right\" src=\"./images/lunar_lander.gif\" width = 60% >](#1)\n",
    "- [ 2 - Hyperparameters](#2)\n",
    "- [ 3 - The Lunar Lander Environment](#3)\n",
    "  - [ 3.1 Action Space](#3.1)\n",
    "  - [ 3.2 Observation Space](#3.2)\n",
    "  - [ 3.3 Rewards](#3.3)\n",
    "  - [ 3.4 Episode Termination](#3.4)\n",
    "- [ 4 - Load the Environment](#4)\n",
    "- [ 5 - Interacting with the Gym Environment](#5)\n",
    "    - [ 5.1 Exploring the Environment's Dynamics](#5.1)\n",
    "- [ 6 - Deep Q-Learning](#6)\n",
    "  - [ 6.1 Target Network](#6.1)\n",
    "    - [ Exercise 1](#ex01)\n",
    "  - [ 6.2 Experience Replay](#6.2)\n",
    "- [ 7 - Deep Q-Learning Algorithm with Experience Replay](#7)\n",
    "  - [ Exercise 2](#ex02)\n",
    "- [ 8 - Update the Network Weights](#8)\n",
    "- [ 9 - Train the Agent](#9)\n",
    "- [ 10 - See the Trained Agent In Action](#10)\n",
    "- [ 11 - Congratulations!](#11)\n",
    "- [ 12 - References](#12)\n"
   ]
  },
  {
   "cell_type": "markdown",
   "metadata": {},
   "source": [
    "_**NOTE:** To prevent errors from the autograder, you are not allowed to edit or delete non-graded cells in this lab. Please also refrain from adding any new cells. \n",
    "**Once you have passed this assignment** and want to experiment with any of the non-graded code, you may follow the instructions at the bottom of this notebook._"
   ]
  },
  {
   "cell_type": "markdown",
   "metadata": {},
   "source": [
    "<a name=\"1\"></a>\n",
    "## 1 - Import Packages\n",
    "\n",
    "We'll make use of the following packages:\n",
    "- `numpy` is a package for scientific computing in python.\n",
    "- `deque` will be our data structure for our memory buffer.\n",
    "- `namedtuple` will be used to store the experience tuples.\n",
    "- The `gym` toolkit is a collection of environments that can be used to test reinforcement learning algorithms. We should note that in this notebook we are using `gym` version `0.24.0`.\n",
    "- `PIL.Image` and `pyvirtualdisplay` are needed to render the Lunar Lander environment.\n",
    "- We will use several modules from the `tensorflow.keras` framework for building deep learning models.\n",
    "- `utils` is a module that contains helper functions for this assignment. You do not need to modify the code in this file.\n",
    "\n",
    "Run the cell below to import all the necessary packages."
   ]
  },
  {
   "cell_type": "code",
   "execution_count": 1,
   "metadata": {
    "deletable": false,
    "editable": false,
    "id": "KYbOPKRtfQOr"
   },
   "outputs": [],
   "source": [
    "import time\n",
    "from collections import deque, namedtuple\n",
    "\n",
    "import gym\n",
    "import numpy as np\n",
    "import PIL.Image\n",
    "import tensorflow as tf\n",
    "import utils\n",
    "\n",
    "from pyvirtualdisplay import Display\n",
    "from tensorflow.keras import Sequential\n",
    "from tensorflow.keras.layers import Dense, Input\n",
    "from tensorflow.keras.losses import MSE\n",
    "from tensorflow.keras.optimizers import Adam"
   ]
  },
  {
   "cell_type": "code",
   "execution_count": 2,
   "metadata": {
    "deletable": false,
    "editable": false
   },
   "outputs": [],
   "source": [
    "# Set up a virtual display to render the Lunar Lander environment.\n",
    "Display(visible=0, size=(840, 480)).start();\n",
    "\n",
    "# Set the random seed for TensorFlow\n",
    "tf.random.set_seed(utils.SEED)"
   ]
  },
  {
   "cell_type": "markdown",
   "metadata": {},
   "source": [
    "<a name=\"2\"></a>\n",
    "## 2 - Hyperparameters\n",
    "\n",
    "Run the cell below to set the hyperparameters."
   ]
  },
  {
   "cell_type": "code",
   "execution_count": 3,
   "metadata": {
    "deletable": false,
    "editable": false
   },
   "outputs": [],
   "source": [
    "MEMORY_SIZE = 100_000     # size of memory buffer\n",
    "GAMMA = 0.995             # discount factor\n",
    "ALPHA = 1e-3              # learning rate  \n",
    "NUM_STEPS_FOR_UPDATE = 4  # perform a learning update every C time steps"
   ]
  },
  {
   "cell_type": "markdown",
   "metadata": {},
   "source": [
    "<a name=\"3\"></a>\n",
    "## 3 - The Lunar Lander Environment\n",
    "\n",
    "In this notebook we will be using [OpenAI's Gym Library](https://www.gymlibrary.dev/). The Gym library provides a wide variety of environments for reinforcement learning. To put it simply, an environment represents a problem or task to be solved. In this notebook, we will try to solve the Lunar Lander environment using reinforcement learning.\n",
    "\n",
    "The goal of the Lunar Lander environment is to land the lunar lander safely on the landing pad on the surface of the moon. The landing pad is designated by two flag poles and it is always at coordinates `(0,0)` but the lander is also allowed to land outside of the landing pad. The lander starts at the top center of the environment with a random initial force applied to its center of mass and has infinite fuel. The environment is considered solved if you get `200` points. \n",
    "\n",
    "<br>\n",
    "<br>\n",
    "<figure>\n",
    "  <img src = \"images/lunar_lander.gif\" width = 40%>\n",
    "      <figcaption style = \"text-align: center; font-style: italic\">Fig 1. Lunar Lander Environment.</figcaption>\n",
    "</figure>\n",
    "\n",
    "\n",
    "\n",
    "<a name=\"3.1\"></a>\n",
    "### 3.1 Action Space\n",
    "\n",
    "The agent has four discrete actions available:\n",
    "\n",
    "* Do nothing.\n",
    "* Fire right engine.\n",
    "* Fire main engine.\n",
    "* Fire left engine.\n",
    "\n",
    "Each action has a corresponding numerical value:\n",
    "\n",
    "```python\n",
    "Do nothing = 0\n",
    "Fire right engine = 1\n",
    "Fire main engine = 2\n",
    "Fire left engine = 3\n",
    "```\n",
    "\n",
    "<a name=\"3.2\"></a>\n",
    "### 3.2 Observation Space\n",
    "\n",
    "The agent's observation space consists of a state vector with 8 variables:\n",
    "\n",
    "* Its $(x,y)$ coordinates. The landing pad is always at coordinates $(0,0)$.\n",
    "* Its linear velocities $(\\dot x,\\dot y)$.\n",
    "* Its angle $\\theta$.\n",
    "* Its angular velocity $\\dot \\theta$.\n",
    "* Two booleans, $l$ and $r$, that represent whether each leg is in contact with the ground or not.\n",
    "\n",
    "<a name=\"3.3\"></a>\n",
    "### 3.3 Rewards\n",
    "\n",
    "The Lunar Lander environment has the following reward system:\n",
    "\n",
    "* Landing on the landing pad and coming to rest is about 100-140 points.\n",
    "* If the lander moves away from the landing pad, it loses reward. \n",
    "* If the lander crashes, it receives -100 points.\n",
    "* If the lander comes to rest, it receives +100 points.\n",
    "* Each leg with ground contact is +10 points.\n",
    "* Firing the main engine is -0.3 points each frame.\n",
    "* Firing the side engine is -0.03 points each frame.\n",
    "\n",
    "<a name=\"3.4\"></a>\n",
    "### 3.4 Episode Termination\n",
    "\n",
    "An episode ends (i.e the environment enters a terminal state) if:\n",
    "\n",
    "* The lunar lander crashes (i.e if the body of the lunar lander comes in contact with the surface of the moon).\n",
    "\n",
    "* The absolute value of the lander's $x$-coordinate is greater than 1 (i.e. it goes beyond the left or right border)\n",
    "\n",
    "You can check out the [Open AI Gym documentation](https://www.gymlibrary.dev/environments/box2d/lunar_lander/) for a full description of the environment. "
   ]
  },
  {
   "cell_type": "markdown",
   "metadata": {},
   "source": [
    "<a name=\"4\"></a>\n",
    "## 4 - Load the Environment\n",
    "\n",
    "We start by loading the `LunarLander-v2` environment from the `gym` library by using the `.make()` method. `LunarLander-v2` is the latest version of the Lunar Lander environment and you can read about its version history in the [Open AI Gym documentation](https://www.gymlibrary.dev/environments/box2d/lunar_lander/#version-history)."
   ]
  },
  {
   "cell_type": "code",
   "execution_count": 4,
   "metadata": {
    "deletable": false,
    "editable": false,
    "id": "ILVMYKewfR0n"
   },
   "outputs": [],
   "source": [
    "env = gym.make('LunarLander-v2')"
   ]
  },
  {
   "cell_type": "markdown",
   "metadata": {},
   "source": [
    "Once we load the environment we use the `.reset()` method to reset the environment to the initial state. The lander starts at the top center of the environment and we can render the first frame of the environment by using the `.render()` method."
   ]
  },
  {
   "cell_type": "code",
   "execution_count": 5,
   "metadata": {
    "deletable": false,
    "editable": false
   },
   "outputs": [
    {
     "data": {
      "image/png": "[encoded data removed]",
      "text/plain": [
       "<PIL.Image.Image image mode=RGB size=600x400 at 0x7F830C459690>"
      ]
     },
     "execution_count": 5,
     "metadata": {},
     "output_type": "execute_result"
    }
   ],
   "source": [
    "env.reset()\n",
    "PIL.Image.fromarray(env.render(mode='rgb_array'))"
   ]
  },
  {
   "cell_type": "markdown",
   "metadata": {},
   "source": [
    "In order to build our neural network later on we need to know the size of the state vector and the number of valid actions. We can get this information from our environment by using the `.observation_space.shape` and `action_space.n` methods, respectively."
   ]
  },
  {
   "cell_type": "code",
   "execution_count": 6,
   "metadata": {
    "deletable": false,
    "editable": false,
    "id": "x3fdqdG4CUu2"
   },
   "outputs": [
    {
     "name": "stdout",
     "output_type": "stream",
     "text": [
      "State Shape: (8,)\n",
      "Number of actions: 4\n"
     ]
    }
   ],
   "source": [
    "state_size = env.observation_space.shape\n",
    "num_actions = env.action_space.n\n",
    "\n",
    "print('State Shape:', state_size)\n",
    "print('Number of actions:', num_actions)"
   ]
  },
  {
   "cell_type": "markdown",
   "metadata": {},
   "source": [
    "<a name=\"5\"></a>\n",
    "## 5 - Interacting with the Gym Environment\n",
    "\n",
    "The Gym library implements the standard “agent-environment loop” formalism:\n",
    "\n",
    "<br>\n",
    "<center>\n",
    "<video src = \"./videos/rl_formalism.m4v\" width=\"840\" height=\"480\" controls autoplay loop poster=\"./images/rl_formalism.png\"> </video>\n",
    "<figcaption style = \"text-align:center; font-style:italic\">Fig 2. Agent-environment Loop Formalism.</figcaption>\n",
    "</center>\n",
    "<br>\n",
    "\n",
    "In the standard “agent-environment loop” formalism, an agent interacts with the environment in discrete time steps $t=0,1,2,...$. At each time step $t$, the agent uses a policy $\\pi$ to select an action $A_t$ based on its observation of the environment's state $S_t$. The agent receives a numerical reward $R_t$ and on the next time step, moves to a new state $S_{t+1}$.\n",
    "\n",
    "<a name=\"5.1\"></a>\n",
    "### 5.1 Exploring the Environment's Dynamics\n",
    "\n",
    "In Open AI's Gym environments, we use the `.step()` method to run a single time step of the environment's dynamics. In the version of `gym` that we are using the `.step()` method accepts an action and returns four values:\n",
    "\n",
    "* `observation` (**object**): an environment-specific object representing your observation of the environment. In the Lunar Lander environment this corresponds to a numpy array containing the positions and velocities of the lander as described in section [3.2 Observation Space](#3.2).\n",
    "\n",
    "\n",
    "* `reward` (**float**): amount of reward returned as a result of taking the given action. In the Lunar Lander environment this corresponds to a float of type `numpy.float64` as described in section [3.3 Rewards](#3.3).\n",
    "\n",
    "\n",
    "* `done` (**boolean**): When done is `True`, it indicates the episode has terminated and it’s time to reset the environment. \n",
    "\n",
    "\n",
    "* `info` (**dictionary**): diagnostic information useful for debugging. We won't be using this variable in this notebook but it is shown here for completeness.\n",
    "\n",
    "To begin an episode, we need to reset the environment to an initial state. We do this by using the `.reset()` method. "
   ]
  },
  {
   "cell_type": "code",
   "execution_count": 8,
   "metadata": {
    "deletable": false,
    "editable": false
   },
   "outputs": [],
   "source": [
    "# Reset the environment and get the initial state.\n",
    "initial_state = env.reset()"
   ]
  },
  {
   "cell_type": "markdown",
   "metadata": {},
   "source": [
    "Once the environment is reset, the agent can start taking actions in the environment by using the `.step()` method. Note that the agent can only take one action per time step. \n",
    "\n",
    "In the cell below you can select different actions and see how the returned values change depending on the action taken. Remember that in this environment the agent has four discrete actions available and we specify them in code by using their corresponding numerical value:\n",
    "\n",
    "```python\n",
    "Do nothing = 0\n",
    "Fire right engine = 1\n",
    "Fire main engine = 2\n",
    "Fire left engine = 3\n",
    "```"
   ]
  },
  {
   "cell_type": "code",
   "execution_count": 9,
   "metadata": {
    "deletable": false
   },
   "outputs": [
    {
     "data": {
      "text/html": [
       "<table class=\"simpletable\">\n",
       "<tr>\n",
       "  <th>Initial State:</th>      <td>[-0.008 1.419 -0.785 0.364 0.009 0.178 0.000 0.000]</td>\n",
       "</tr>\n",
       "<tr>\n",
       "  <th>Action:</th>                                 <td>Do nothing</td>                     \n",
       "</tr>\n",
       "<tr>\n",
       "  <th>Next State:</th>         <td>[-0.015 1.427 -0.784 0.339 0.018 0.176 0.000 0.000]</td>\n",
       "</tr>\n",
       "<tr>\n",
       "  <th>Reward Received:</th>                          <td>-0.498</td>                       \n",
       "</tr>\n",
       "<tr>\n",
       "  <th>Episode Terminated:</th>                        <td>False</td>                       \n",
       "</tr>\n",
       "</table>"
      ],
      "text/plain": [
       "<class 'statsmodels.iolib.table.SimpleTable'>"
      ]
     },
     "execution_count": 9,
     "metadata": {},
     "output_type": "execute_result"
    }
   ],
   "source": [
    "# Select an action\n",
    "action = 0\n",
    "\n",
    "# Run a single time step of the environment's dynamics with the given action.\n",
    "next_state, reward, done, _ = env.step(action)\n",
    "\n",
    "# Display table with values. All values are displayed to 3 decimal places.\n",
    "utils.display_table(initial_state, action, next_state, reward, done)"
   ]
  },
  {
   "cell_type": "markdown",
   "metadata": {},
   "source": [
    "In practice, when we train the agent we use a loop to allow the agent to take many consecutive actions during an episode."
   ]
  },
  {
   "cell_type": "markdown",
   "metadata": {},
   "source": [
    "<a name=\"6\"></a>\n",
    "## 6 - Deep Q-Learning\n",
    "\n",
    "In cases where both the state and action space are discrete we can estimate the action-value function iteratively by using the Bellman equation:\n",
    "\n",
    "$$\n",
    "Q_{i+1}(s,a) = R + \\gamma \\max_{a'}Q_i(s',a')\n",
    "$$\n",
    "\n",
    "This iterative method converges to the optimal action-value function $Q^*(s,a)$ as $i\\to\\infty$. This means that the agent just needs to gradually explore the state-action space and keep updating the estimate of $Q(s,a)$ until it converges to the optimal action-value function $Q^*(s,a)$. However, in cases where the state space is continuous it becomes practically impossible to explore the entire state-action space. Consequently, this also makes it practically impossible to gradually estimate $Q(s,a)$ until it converges to $Q^*(s,a)$.\n",
    "\n",
    "In the Deep $Q$-Learning, we solve this problem by using a neural network to estimate the action-value function $Q(s,a)\\approx Q^*(s,a)$. We call this neural network a $Q$-Network and it can be trained by adjusting its weights at each iteration to minimize the mean-squared error in the Bellman equation.\n",
    "\n",
    "Unfortunately, using neural networks in reinforcement learning to estimate action-value functions has proven to be highly unstable. Luckily, there's a couple of techniques that can be employed to avoid instabilities. These techniques consist of using a ***Target Network*** and ***Experience Replay***. We will explore these two techniques in the following sections."
   ]
  },
  {
   "cell_type": "markdown",
   "metadata": {},
   "source": [
    "<a name=\"6.1\"></a>\n",
    "### 6.1 Target Network\n",
    "\n",
    "We can train the $Q$-Network by adjusting it's weights at each iteration to minimize the mean-squared error in the Bellman equation, where the target values are given by:\n",
    "\n",
    "$$\n",
    "y = R + \\gamma \\max_{a'}Q(s',a';w)\n",
    "$$\n",
    "\n",
    "where $w$ are the weights of the $Q$-Network. This means that we are adjusting the weights $w$ at each iteration to minimize the following error:\n",
    "\n",
    "$$\n",
    "\\overbrace{\\underbrace{R + \\gamma \\max_{a'}Q(s',a'; w)}_{\\rm {y~target}} - Q(s,a;w)}^{\\rm {Error}}\n",
    "$$\n",
    "\n",
    "Notice that this forms a problem because the $y$ target is changing on every iteration. Having a constantly moving target can lead to oscillations and instabilities. To avoid this, we can create\n",
    "a separate neural network for generating the $y$ targets. We call this separate neural network the **target $\\hat Q$-Network** and it will have the same architecture as the original $Q$-Network. By using the target $\\hat Q$-Network, the above error becomes:\n",
    "\n",
    "$$\n",
    "\\overbrace{\\underbrace{R + \\gamma \\max_{a'}\\hat{Q}(s',a'; w^-)}_{\\rm {y~target}} - Q(s,a;w)}^{\\rm {Error}}\n",
    "$$\n",
    "\n",
    "where $w^-$ and $w$ are the weights the target $\\hat Q$-Network and $Q$-Network, respectively.\n",
    "\n",
    "In practice, we will use the following algorithm: every $C$ time steps we will use the $\\hat Q$-Network to generate the $y$ targets and update the weights of the target $\\hat Q$-Network using the weights of the $Q$-Network. We will update the weights $w^-$ of the the target $\\hat Q$-Network using a **soft update**. This means that we will update the weights $w^-$ using the following rule:\n",
    " \n",
    "$$\n",
    "w^-\\leftarrow \\tau w + (1 - \\tau) w^-\n",
    "$$\n",
    "\n",
    "where $\\tau\\ll 1$. By using the soft update, we are ensuring that the target values, $y$, change slowly, which greatly improves the stability of our learning algorithm."
   ]
  },
  {
   "cell_type": "markdown",
   "metadata": {},
   "source": [
    "<a name=\"ex01\"></a>\n",
    "### Exercise 1\n",
    "\n",
    "In this exercise you will create the $Q$ and target $\\hat Q$ networks and set the optimizer. Remember that the Deep $Q$-Network (DQN) is a neural network that approximates the action-value function $Q(s,a)\\approx Q^*(s,a)$. It does this by learning how to map states to $Q$ values.\n",
    "\n",
    "To solve the Lunar Lander environment, we are going to employ a DQN with the following architecture:\n",
    "\n",
    "* An `Input` layer that takes `state_size` as input.\n",
    "\n",
    "* A `Dense` layer with `64` units and a `relu` activation function.\n",
    "\n",
    "* A `Dense` layer with `64` units and a `relu` activation function.\n",
    "\n",
    "* A `Dense` layer with `num_actions` units and a `linear` activation function. This will be the output layer of our network.\n",
    "\n",
    "\n",
    "In the cell below you should create the $Q$-Network and the target $\\hat Q$-Network using the model architecture described above. Remember that both the $Q$-Network and the target $\\hat Q$-Network have the same architecture.\n",
    "\n",
    "Lastly, you should set `Adam` as the optimizer with a learning rate equal to `ALPHA`. Recall that `ALPHA` was defined in the [Hyperparameters](#2) section. We should note that for this exercise you should use the already imported packages:\n",
    "```python\n",
    "from tensorflow.keras.layers import Dense, Input\n",
    "from tensorflow.keras.optimizers import Adam\n",
    "```"
   ]
  },
  {
   "cell_type": "code",
   "execution_count": 14,
   "metadata": {
    "deletable": false
   },
   "outputs": [],
   "source": [
    "# UNQ_C1\n",
    "# GRADED CELL\n",
    "\n",
    "# Create the Q-Network\n",
    "q_network = Sequential([\n",
    "    ### START CODE HERE ### \n",
    "    tf.keras.layers.InputLayer(input_shape=state_size),\n",
    "    tf.keras.layers.Dense(64, activation='relu'),\n",
    "    tf.keras.layers.Dense(64, activation='relu'),\n",
    "    tf.keras.layers.Dense(num_actions)\n",
    "    \n",
    "    ### END CODE HERE ### \n",
    "    ])\n",
    "\n",
    "# Create the target Q^-Network\n",
    "target_q_network = Sequential([\n",
    "    ### START CODE HERE ### \n",
    "    tf.keras.layers.InputLayer(input_shape=state_size),\n",
    "    tf.keras.layers.Dense(64, activation='relu'),\n",
    "    tf.keras.layers.Dense(64, activation='relu'),\n",
    "    tf.keras.layers.Dense(num_actions)\n",
    "       \n",
    "    ### END CODE HERE ###\n",
    "    ])\n",
    "\n",
    "### START CODE HERE ### \n",
    "optimizer = Adam(learning_rate=ALPHA)\n",
    "### END CODE HERE ###"
   ]
  },
  {
   "cell_type": "code",
   "execution_count": 15,
   "metadata": {
    "deletable": false,
    "editable": false
   },
   "outputs": [
    {
     "name": "stdout",
     "output_type": "stream",
     "text": [
      "\u001b[92mAll tests passed!\n",
      "\u001b[92mAll tests passed!\n",
      "\u001b[92mAll tests passed!\n"
     ]
    }
   ],
   "source": [
    "# UNIT TEST\n",
    "from public_tests import *\n",
    "\n",
    "test_network(q_network)\n",
    "test_network(target_q_network)\n",
    "test_optimizer(optimizer, ALPHA) "
   ]
  },
  {
   "cell_type": "markdown",
   "metadata": {},
   "source": [
    "<details>\n",
    "  <summary><font size=\"3\" color=\"darkgreen\"><b>Click for hints</b></font></summary>\n",
    "    \n",
    "```python\n",
    "# Create the Q-Network\n",
    "q_network = Sequential([\n",
    "    Input(shape=state_size),                      \n",
    "    Dense(units=64, activation='relu'),            \n",
    "    Dense(units=64, activation='relu'),            \n",
    "    Dense(units=num_actions, activation='linear'),\n",
    "    ])\n",
    "\n",
    "# Create the target Q^-Network\n",
    "target_q_network = Sequential([\n",
    "    Input(shape=state_size),                       \n",
    "    Dense(units=64, activation='relu'),            \n",
    "    Dense(units=64, activation='relu'),            \n",
    "    Dense(units=num_actions, activation='linear'), \n",
    "    ])\n",
    "\n",
    "optimizer = Adam(learning_rate=ALPHA)                                  \n",
    "``` "
   ]
  },
  {
   "cell_type": "markdown",
   "metadata": {},
   "source": [
    "<a name=\"6.2\"></a>\n",
    "### 6.2 Experience Replay\n",
    "\n",
    "When an agent interacts with the environment, the states, actions, and rewards the agent experiences are sequential by nature. If the agent tries to learn from these consecutive experiences it can run into problems due to the strong correlations between them. To avoid this, we employ a technique known as **Experience Replay** to generate uncorrelated experiences for training our agent. Experience replay consists of storing the agent's experiences (i.e the states, actions, and rewards the agent receives) in a memory buffer and then sampling a random mini-batch of experiences from the buffer to do the learning. The experience tuples $(S_t, A_t, R_t, S_{t+1})$ will be added to the memory buffer at each time step as the agent interacts with the environment.\n",
    "\n",
    "For convenience, we will store the experiences as named tuples."
   ]
  },
  {
   "cell_type": "code",
   "execution_count": 16,
   "metadata": {
    "deletable": false,
    "editable": false
   },
   "outputs": [],
   "source": [
    "# Store experiences as named tuples\n",
    "experience = namedtuple(\"Experience\", field_names=[\"state\", \"action\", \"reward\", \"next_state\", \"done\"])"
   ]
  },
  {
   "cell_type": "markdown",
   "metadata": {},
   "source": [
    "By using experience replay we avoid problematic correlations, oscillations and instabilities. In addition, experience replay also allows the agent to potentially use the same experience in multiple weight updates, which increases data efficiency."
   ]
  },
  {
   "cell_type": "markdown",
   "metadata": {},
   "source": [
    "<a name=\"7\"></a>\n",
    "## 7 - Deep Q-Learning Algorithm with Experience Replay\n",
    "\n",
    "Now that we know all the techniques that we are going to use, we can put them together to arrive at the Deep Q-Learning Algorithm With Experience Replay.\n",
    "<br>\n",
    "<br>\n",
    "<figure>\n",
    "  <img src = \"images/deep_q_algorithm.png\" width = 90% style = \"border: thin silver solid; padding: 0px\">\n",
    "      <figcaption style = \"text-align: center; font-style: italic\">Fig 3. Deep Q-Learning with Experience Replay.</figcaption>\n",
    "</figure>"
   ]
  },
  {
   "cell_type": "markdown",
   "metadata": {},
   "source": [
    "<a name=\"ex02\"></a>\n",
    "### Exercise 2\n",
    "\n",
    "In this exercise you will implement line ***12*** of the algorithm outlined in *Fig 3* above and you will also compute the loss between the $y$ targets and the $Q(s,a)$ values. In the cell below, complete the `compute_loss` function by setting the $y$ targets equal to:\n",
    "\n",
    "$$\n",
    "\\begin{equation}\n",
    "    y_j =\n",
    "    \\begin{cases}\n",
    "      R_j & \\text{if episode terminates at step  } j+1\\\\\n",
    "      R_j + \\gamma \\max_{a'}\\hat{Q}(s_{j+1},a') & \\text{otherwise}\\\\\n",
    "    \\end{cases}       \n",
    "\\end{equation}\n",
    "$$\n",
    "\n",
    "Here are a couple of things to note:\n",
    "\n",
    "* The `compute_loss` function takes in a mini-batch of experience tuples. This mini-batch of experience tuples is unpacked to extract the `states`, `actions`, `rewards`, `next_states`, and `done_vals`. You should keep in mind that these variables are *TensorFlow Tensors* whose size will depend on the mini-batch size. For example, if the mini-batch size is `64` then both `rewards` and `done_vals` will be TensorFlow Tensors with `64` elements.\n",
    "\n",
    "\n",
    "* Using `if/else` statements to set the $y$ targets will not work when the variables are tensors with many elements. However, notice that you can use the `done_vals` to implement the above in a single line of code. To do this, recall that the `done` variable is a Boolean variable that takes the value `True` when an episode terminates at step $j+1$ and it is `False` otherwise. Taking into account that a Boolean value of `True` has the numerical value of `1` and a Boolean value of `False` has the numerical value of `0`, you can use the factor `(1 - done_vals)` to implement the above in a single line of code. Here's a hint: notice that `(1 - done_vals)` has a value of `0` when `done_vals` is `True` and a value of `1` when `done_vals` is `False`. \n",
    "\n",
    "Lastly, compute the loss by calculating the Mean-Squared Error (`MSE`) between the `y_targets` and the `q_values`. To calculate the mean-squared error you should use the already imported package `MSE`:\n",
    "```python\n",
    "from tensorflow.keras.losses import MSE\n",
    "```"
   ]
  },
  {
   "cell_type": "code",
   "execution_count": 47,
   "metadata": {
    "deletable": false
   },
   "outputs": [],
   "source": [
    "# UNQ_C2\n",
    "# GRADED FUNCTION: calculate_loss\n",
    "\n",
    "def compute_loss(experiences, gamma, q_network, target_q_network):\n",
    "    \"\"\" \n",
    "    Calculates the loss.\n",
    "    \n",
    "    Args:\n",
    "      experiences: (tuple) tuple of [\"state\", \"action\", \"reward\", \"next_state\", \"done\"] namedtuples\n",
    "      gamma: (float) The discount factor.\n",
    "      q_network: (tf.keras.Sequential) Keras model for predicting the q_values\n",
    "      target_q_network: (tf.keras.Sequential) Keras model for predicting the targets\n",
    "          \n",
    "    Returns:\n",
    "      loss: (TensorFlow Tensor(shape=(0,), dtype=int32)) the Mean-Squared Error between\n",
    "            the y targets and the Q(s,a) values.\n",
    "    \"\"\"\n",
    "\n",
    "    # Unpack the mini-batch of experience tuples\n",
    "    states, actions, rewards, next_states, done_vals = experiences\n",
    "    \n",
    "    # Compute max Q^(s,a)\n",
    "    max_qsa = tf.reduce_max(target_q_network(next_states), axis=-1)\n",
    "    \n",
    "    # Set y = R if episode terminates, otherwise set y = R + γ max Q^(s,a).\n",
    "    ### START CODE HERE ### \n",
    "    y_targets = rewards + (gamma*max_qsa)*(1-done_vals)\n",
    "    ### END CODE HERE ###\n",
    "    \n",
    "    # Get the q_values\n",
    "    q_values = q_network(states)\n",
    "    q_values = tf.gather_nd(q_values, tf.stack([tf.range(q_values.shape[0]),\n",
    "                                                tf.cast(actions, tf.int32)], axis=1))\n",
    "        \n",
    "    # Compute the loss\n",
    "    ### START CODE HERE ### \n",
    "    loss = tf.keras.losses.mean_squared_error(y_targets, q_values)\n",
    "    ### END CODE HERE ### \n",
    "    \n",
    "    return loss"
   ]
  },
  {
   "cell_type": "code",
   "execution_count": 48,
   "metadata": {
    "deletable": false,
    "editable": false
   },
   "outputs": [
    {
     "name": "stdout",
     "output_type": "stream",
     "text": [
      "\u001b[92mAll tests passed!\n"
     ]
    }
   ],
   "source": [
    "# UNIT TEST    \n",
    "test_compute_loss(compute_loss)"
   ]
  },
  {
   "cell_type": "markdown",
   "metadata": {},
   "source": [
    "<details>\n",
    "  <summary><font size=\"3\" color=\"darkgreen\"><b>Click for hints</b></font></summary>\n",
    "    \n",
    "```python\n",
    "def compute_loss(experiences, gamma, q_network, target_q_network):\n",
    "    \"\"\" \n",
    "    Calculates the loss.\n",
    "    \n",
    "    Args:\n",
    "      experiences: (tuple) tuple of [\"state\", \"action\", \"reward\", \"next_state\", \"done\"] namedtuples\n",
    "      gamma: (float) The discount factor.\n",
    "      q_network: (tf.keras.Sequential) Keras model for predicting the q_values\n",
    "      target_q_network: (tf.keras.Sequential) Keras model for predicting the targets\n",
    "          \n",
    "    Returns:\n",
    "      loss: (TensorFlow Tensor(shape=(0,), dtype=int32)) the Mean-Squared Error between\n",
    "            the y targets and the Q(s,a) values.\n",
    "    \"\"\"\n",
    "\n",
    "    \n",
    "    # Unpack the mini-batch of experience tuples\n",
    "    states, actions, rewards, next_states, done_vals = experiences\n",
    "    \n",
    "    # Compute max Q^(s,a)\n",
    "    max_qsa = tf.reduce_max(target_q_network(next_states), axis=-1)\n",
    "    \n",
    "    # Set y = R if episode terminates, otherwise set y = R + γ max Q^(s,a).\n",
    "    y_targets = rewards + (gamma * max_qsa * (1 - done_vals))\n",
    "    \n",
    "    # Get the q_values\n",
    "    q_values = q_network(states)\n",
    "    q_values = tf.gather_nd(q_values, tf.stack([tf.range(q_values.shape[0]),\n",
    "                                                tf.cast(actions, tf.int32)], axis=1))\n",
    "    \n",
    "    # Calculate the loss\n",
    "    loss = MSE(y_targets, q_values)\n",
    "    \n",
    "    return loss\n",
    "\n",
    "``` \n",
    "    "
   ]
  },
  {
   "cell_type": "markdown",
   "metadata": {},
   "source": [
    "<a name=\"8\"></a>\n",
    "## 8 - Update the Network Weights\n",
    "\n",
    "We will use the `agent_learn` function below to implement lines ***12 -14*** of the algorithm outlined in [Fig 3](#7). The `agent_learn` function will update the weights of the $Q$ and target $\\hat Q$ networks using a custom training loop. Because we are using a custom training loop we need to retrieve the gradients via a `tf.GradientTape` instance, and then call `optimizer.apply_gradients()` to update the weights of our $Q$-Network. Note that we are also using the `@tf.function` decorator to increase performance. Without this decorator our training will take twice as long. If you would like to know more about how to increase performance with `@tf.function` take a look at the [TensorFlow documentation](https://www.tensorflow.org/guide/function).\n",
    "\n",
    "The last line of this function updates the weights of the target $\\hat Q$-Network using a [soft update](#6.1). If you want to know how this is implemented in code we encourage you to take a look at the `utils.update_target_network` function in the `utils` module."
   ]
  },
  {
   "cell_type": "code",
   "execution_count": 49,
   "metadata": {
    "deletable": false,
    "editable": false
   },
   "outputs": [],
   "source": [
    "@tf.function\n",
    "def agent_learn(experiences, gamma):\n",
    "    \"\"\"\n",
    "    Updates the weights of the Q networks.\n",
    "    \n",
    "    Args:\n",
    "      experiences: (tuple) tuple of [\"state\", \"action\", \"reward\", \"next_state\", \"done\"] namedtuples\n",
    "      gamma: (float) The discount factor.\n",
    "    \n",
    "    \"\"\"\n",
    "    \n",
    "    # Calculate the loss\n",
    "    with tf.GradientTape() as tape:\n",
    "        loss = compute_loss(experiences, gamma, q_network, target_q_network)\n",
    "\n",
    "    # Get the gradients of the loss with respect to the weights.\n",
    "    gradients = tape.gradient(loss, q_network.trainable_variables)\n",
    "    \n",
    "    # Update the weights of the q_network.\n",
    "    optimizer.apply_gradients(zip(gradients, q_network.trainable_variables))\n",
    "\n",
    "    # update the weights of target q_network\n",
    "    utils.update_target_network(q_network, target_q_network)"
   ]
  },
  {
   "cell_type": "markdown",
   "metadata": {},
   "source": [
    "<a name=\"9\"></a>\n",
    "## 9 - Train the Agent\n",
    "\n",
    "We are now ready to train our agent to solve the Lunar Lander environment. In the cell below we will implement the algorithm in [Fig 3](#7) line by line (please note that we have included the same algorithm below for easy reference. This will prevent you from scrolling up and down the notebook):\n",
    "\n",
    "* **Line 1**: We initialize the `memory_buffer` with a capacity of $N =$ `MEMORY_SIZE`. Notice that we are using a `deque` as the data structure for our `memory_buffer`.\n",
    "\n",
    "\n",
    "* **Line 2**: We skip this line since we already initialized the `q_network` in [Exercise 1](#ex01).\n",
    "\n",
    "\n",
    "* **Line 3**: We initialize the `target_q_network` by setting its weights to be equal to those of the `q_network`.\n",
    "\n",
    "\n",
    "* **Line 4**: We start the outer loop. Notice that we have set $M =$ `num_episodes = 2000`. This number is reasonable because the agent should be able to solve the Lunar Lander environment in less than `2000` episodes using this notebook's default parameters.\n",
    "\n",
    "\n",
    "* **Line 5**: We use the `.reset()` method to reset the environment to the initial state and get the initial state.\n",
    "\n",
    "\n",
    "* **Line 6**: We start the inner loop. Notice that we have set $T =$ `max_num_timesteps = 1000`. This means that the episode will automatically terminate if the episode hasn't terminated after `1000` time steps.\n",
    "\n",
    "\n",
    "* **Line 7**: The agent observes the current `state` and chooses an `action` using an $\\epsilon$-greedy policy. Our agent starts out using a value of $\\epsilon =$ `epsilon = 1` which yields an $\\epsilon$-greedy policy that is equivalent to the equiprobable random policy. This means that at the beginning of our training, the agent is just going to take random actions regardless of the observed `state`. As training progresses we will decrease the value of $\\epsilon$ slowly towards a minimum value using a given $\\epsilon$-decay rate. We want this minimum value to be close to zero because a value of $\\epsilon = 0$ will yield an $\\epsilon$-greedy policy that is equivalent to the greedy policy. This means that towards the end of training, the agent will lean towards selecting the `action` that it believes (based on its past experiences) will maximize $Q(s,a)$. We will set the minimum $\\epsilon$ value to be `0.01` and not exactly 0 because we always want to keep a little bit of exploration during training. If you want to know how this is implemented in code we encourage you to take a look at the `utils.get_action` function in the `utils` module.\n",
    "\n",
    "\n",
    "* **Line 8**: We use the `.step()` method to take the given `action` in the environment and get the `reward` and the `next_state`. \n",
    "\n",
    "\n",
    "* **Line 9**: We store the `experience(state, action, reward, next_state, done)` tuple in our `memory_buffer`. Notice that we also store the `done` variable so that we can keep track of when an episode terminates. This allowed us to set the $y$ targets in [Exercise 2](#ex02).\n",
    "\n",
    "\n",
    "* **Line 10**: We check if the conditions are met to perform a learning update. We do this by using our custom `utils.check_update_conditions` function. This function checks if $C =$ `NUM_STEPS_FOR_UPDATE = 4` time steps have occured and if our `memory_buffer` has enough experience tuples to fill a mini-batch. For example, if the mini-batch size is `64`, then our `memory_buffer` should have more than `64` experience tuples in order to pass the latter condition. If the conditions are met, then the `utils.check_update_conditions` function will return a value of `True`, otherwise it will return a value of `False`.\n",
    "\n",
    "\n",
    "* **Lines 11 - 14**: If the `update` variable is `True` then we perform a learning update. The learning update consists of sampling a random mini-batch of experience tuples from our `memory_buffer`, setting the $y$ targets, performing gradient descent, and updating the weights of the networks. We will use the `agent_learn` function we defined in [Section 8](#8) to perform the latter 3.\n",
    "\n",
    "\n",
    "* **Line 15**: At the end of each iteration of the inner loop we set `next_state` as our new `state` so that the loop can start again from this new state. In addition, we check if the episode has reached a terminal state (i.e we check if `done = True`). If a terminal state has been reached, then we break out of the inner loop.\n",
    "\n",
    "\n",
    "* **Line 16**: At the end of each iteration of the outer loop we update the value of $\\epsilon$, and check if the environment has been solved. We consider that the environment has been solved if the agent receives an average of `200` points in the last `100` episodes. If the environment has not been solved we continue the outer loop and start a new episode.\n",
    "\n",
    "Finally, we wanted to note that we have included some extra variables to keep track of the total number of points the agent received in each episode. This will help us determine if the agent has solved the environment and it will also allow us to see how our agent performed during training. We also use the `time` module to measure how long the training takes. \n",
    "\n",
    "<br>\n",
    "<br>\n",
    "<figure>\n",
    "  <img src = \"images/deep_q_algorithm.png\" width = 90% style = \"border: thin silver solid; padding: 0px\">\n",
    "      <figcaption style = \"text-align: center; font-style: italic\">Fig 4. Deep Q-Learning with Experience Replay.</figcaption>\n",
    "</figure>\n",
    "<br>\n",
    "\n",
    "**Note:** With this notebook's default parameters, the following cell takes between 10 to 15 minutes to run. "
   ]
  },
  {
   "cell_type": "code",
   "execution_count": 50,
   "metadata": {
    "deletable": false,
    "editable": false
   },
   "outputs": [
    {
     "name": "stdout",
     "output_type": "stream",
     "text": [
      "Episode 100 | Total point average of the last 100 episodes: -161.47\n",
      "Episode 200 | Total point average of the last 100 episodes: -68.213\n",
      "Episode 300 | Total point average of the last 100 episodes: -44.62\n",
      "Episode 400 | Total point average of the last 100 episodes: 92.722\n",
      "Episode 500 | Total point average of the last 100 episodes: 187.44\n",
      "Episode 600 | Total point average of the last 100 episodes: 176.07\n",
      "Episode 700 | Total point average of the last 100 episodes: 174.48\n",
      "Episode 720 | Total point average of the last 100 episodes: 202.44\n",
      "\n",
      "Environment solved in 720 episodes!\n",
      "\n",
      "Total Runtime: 874.28 s (14.57 min)\n"
     ]
    }
   ],
   "source": [
    "start = time.time()\n",
    "\n",
    "num_episodes = 2000\n",
    "max_num_timesteps = 1000\n",
    "\n",
    "total_point_history = []\n",
    "\n",
    "num_p_av = 100    # number of total points to use for averaging\n",
    "epsilon = 1.0     # initial ε value for ε-greedy policy\n",
    "\n",
    "# Create a memory buffer D with capacity N\n",
    "memory_buffer = deque(maxlen=MEMORY_SIZE)\n",
    "\n",
    "# Set the target network weights equal to the Q-Network weights\n",
    "target_q_network.set_weights(q_network.get_weights())\n",
    "\n",
    "for i in range(num_episodes):\n",
    "    \n",
    "    # Reset the environment to the initial state and get the initial state\n",
    "    state = env.reset()\n",
    "    total_points = 0\n",
    "    \n",
    "    for t in range(max_num_timesteps):\n",
    "        \n",
    "        # From the current state S choose an action A using an ε-greedy policy\n",
    "        state_qn = np.expand_dims(state, axis=0)  # state needs to be the right shape for the q_network\n",
    "        q_values = q_network(state_qn)\n",
    "        action = utils.get_action(q_values, epsilon)\n",
    "        \n",
    "        # Take action A and receive reward R and the next state S'\n",
    "        next_state, reward, done, _ = env.step(action)\n",
    "        \n",
    "        # Store experience tuple (S,A,R,S') in the memory buffer.\n",
    "        # We store the done variable as well for convenience.\n",
    "        memory_buffer.append(experience(state, action, reward, next_state, done))\n",
    "        \n",
    "        # Only update the network every NUM_STEPS_FOR_UPDATE time steps.\n",
    "        update = utils.check_update_conditions(t, NUM_STEPS_FOR_UPDATE, memory_buffer)\n",
    "        \n",
    "        if update:\n",
    "            # Sample random mini-batch of experience tuples (S,A,R,S') from D\n",
    "            experiences = utils.get_experiences(memory_buffer)\n",
    "            \n",
    "            # Set the y targets, perform a gradient descent step,\n",
    "            # and update the network weights.\n",
    "            agent_learn(experiences, GAMMA)\n",
    "        \n",
    "        state = next_state.copy()\n",
    "        total_points += reward\n",
    "        \n",
    "        if done:\n",
    "            break\n",
    "            \n",
    "    total_point_history.append(total_points)\n",
    "    av_latest_points = np.mean(total_point_history[-num_p_av:])\n",
    "    \n",
    "    # Update the ε value\n",
    "    epsilon = utils.get_new_eps(epsilon)\n",
    "\n",
    "    print(f\"\\rEpisode {i+1} | Total point average of the last {num_p_av} episodes: {av_latest_points:.2f}\", end=\"\")\n",
    "\n",
    "    if (i+1) % num_p_av == 0:\n",
    "        print(f\"\\rEpisode {i+1} | Total point average of the last {num_p_av} episodes: {av_latest_points:.2f}\")\n",
    "\n",
    "    # We will consider that the environment is solved if we get an\n",
    "    # average of 200 points in the last 100 episodes.\n",
    "    if av_latest_points >= 200.0:\n",
    "        print(f\"\\n\\nEnvironment solved in {i+1} episodes!\")\n",
    "        q_network.save('lunar_lander_model.h5')\n",
    "        break\n",
    "        \n",
    "tot_time = time.time() - start\n",
    "\n",
    "print(f\"\\nTotal Runtime: {tot_time:.2f} s ({(tot_time/60):.2f} min)\")"
   ]
  },
  {
   "cell_type": "markdown",
   "metadata": {},
   "source": [
    "We can plot the total point history along with the moving average to see how our agent improved during training. If you want to know about the different plotting options available in the `utils.plot_history` function we encourage you to take a look at the `utils` module."
   ]
  },
  {
   "cell_type": "code",
   "execution_count": 51,
   "metadata": {
    "deletable": false,
    "editable": false,
    "id": "E_EUXxurfe8m",
    "scrolled": false
   },
   "outputs": [
    {
     "data": {
      "image/png": "[encoded data removed]",
      "text/plain": [
       "<Figure size 720x504 with 1 Axes>"
      ]
     },
     "metadata": {},
     "output_type": "display_data"
    }
   ],
   "source": [
    "# Plot the total point history along with the moving average\n",
    "utils.plot_history(total_point_history)"
   ]
  },
  {
   "cell_type": "markdown",
   "metadata": {
    "id": "c_xwgaX5MnYt"
   },
   "source": [
    "<a name=\"10\"></a>\n",
    "## 10 - See the Trained Agent In Action\n",
    "\n",
    "Now that we have trained our agent, we can see it in action. We will use the `utils.create_video` function to create a video of our agent interacting with the environment using the trained $Q$-Network. The `utils.create_video` function uses the `imageio` library to create the video. This library produces some warnings that can be distracting, so, to suppress these warnings we run the code below."
   ]
  },
  {
   "cell_type": "code",
   "execution_count": 52,
   "metadata": {
    "deletable": false,
    "editable": false
   },
   "outputs": [],
   "source": [
    "# Suppress warnings from imageio\n",
    "import logging\n",
    "logging.getLogger().setLevel(logging.ERROR)"
   ]
  },
  {
   "cell_type": "markdown",
   "metadata": {},
   "source": [
    "In the cell below we create a video of our agent interacting with the Lunar Lander environment using the trained `q_network`. The video is saved to the `videos` folder with the given `filename`. We use the `utils.embed_mp4` function to embed the video in the Jupyter Notebook so that we can see it here directly without having to download it.\n",
    "\n",
    "We should note that since the lunar lander starts with a random initial force applied to its center of mass, every time you run the cell below you will see a different video. If the agent was trained properly, it should be able to land the lunar lander in the landing pad every time, regardless of the initial force applied to its center of mass."
   ]
  },
  {
   "cell_type": "code",
   "execution_count": 54,
   "metadata": {
    "deletable": false,
    "editable": false,
    "id": "3Ttb_zLeJKiG"
   },
   "outputs": [
    {
     "data": {
      "text/html": [
       "\n",
       "    <video width=\"840\" height=\"480\" controls>\n",
       "    <source src=\"data:video/mp4;base64,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\" type=\"video/mp4\">\n",
       "    Your browser does not support the video tag.\n",
       "    </video>"
      ],
      "text/plain": [
       "<IPython.core.display.HTML object>"
      ]
     },
     "execution_count": 54,
     "metadata": {},
     "output_type": "execute_result"
    }
   ],
   "source": [
    "filename = \"./videos/lunar_lander.mp4\"\n",
    "\n",
    "utils.create_video(filename, env, q_network)\n",
    "utils.embed_mp4(filename)"
   ]
  },
  {
   "cell_type": "markdown",
   "metadata": {},
   "source": [
    "<a name=\"11\"></a>\n",
    "## 11 - Congratulations!\n",
    "\n",
    "You have successfully used Deep Q-Learning with Experience Replay to train an agent to land a lunar lander safely on a landing pad on the surface of the moon. Congratulations!"
   ]
  },
  {
   "cell_type": "markdown",
   "metadata": {},
   "source": [
    "<a name=\"12\"></a>\n",
    "## 12 - References\n",
    "\n",
    "If you would like to learn more about Deep Q-Learning, we recommend you check out the following papers.\n",
    "\n",
    "\n",
    "* Mnih, V., Kavukcuoglu, K., Silver, D. et al. Human-level control through deep reinforcement learning. Nature 518, 529–533 (2015).\n",
    "\n",
    "\n",
    "* Lillicrap, T. P., Hunt, J. J., Pritzel, A., et al. Continuous Control with Deep Reinforcement Learning. ICLR (2016).\n",
    "\n",
    "\n",
    "* Mnih, V., Kavukcuoglu, K., Silver, D. et al. Playing Atari with Deep Reinforcement Learning. arXiv e-prints.  arXiv:1312.5602 (2013)."
   ]
  },
  {
   "cell_type": "markdown",
   "metadata": {},
   "source": [
    "<details>\n",
    "  <summary><font size=\"2\" color=\"darkgreen\"><b>Please click here if you want to experiment with any of the non-graded code.</b></font></summary>\n",
    "    <p><i><b>Important Note: Please only do this when you've already passed the assignment to avoid problems with the autograder.</b></i>\n",
    "    <ol>\n",
    "        <li> On the notebook’s menu, click “View” > “Cell Toolbar” > “Edit Metadata”</li>\n",
    "        <li> Hit the “Edit Metadata” button next to the code cell which you want to lock/unlock</li>\n",
    "        <li> Set the attribute value for “editable” to:\n",
    "            <ul>\n",
    "                <li> “true” if you want to unlock it </li>\n",
    "                <li> “false” if you want to lock it </li>\n",
    "            </ul>\n",
    "        </li>\n",
    "        <li> On the notebook’s menu, click “View” > “Cell Toolbar” > “None” </li>\n",
    "    </ol>\n",
    "    <p> Here's a short demo of how to do the steps above: \n",
    "        <br>\n",
    "        <img src=\"https://drive.google.com/uc?export=view&id=14Xy_Mb17CZVgzVAgq7NCjMVBvSae3xO1\" align=\"center\" alt=\"unlock_cells.gif\">\n",
    "</details>"
   ]
  }
 ],
 "metadata": {
  "accelerator": "GPU",
  "colab": {
   "collapsed_sections": [],
   "name": "TensorFlow - Lunar Lander.ipynb",
   "provenance": []
  },
  "kernelspec": {
   "display_name": "Python 3",
   "language": "python",
   "name": "python3"
  },
  "language_info": {
   "codemirror_mode": {
    "name": "ipython",
    "version": 3
   },
   "file_extension": ".py",
   "mimetype": "text/x-python",
   "name": "python",
   "nbconvert_exporter": "python",
   "pygments_lexer": "ipython3",
   "version": "3.7.6"
  }
 },
 "nbformat": 4,
 "nbformat_minor": 1
}
